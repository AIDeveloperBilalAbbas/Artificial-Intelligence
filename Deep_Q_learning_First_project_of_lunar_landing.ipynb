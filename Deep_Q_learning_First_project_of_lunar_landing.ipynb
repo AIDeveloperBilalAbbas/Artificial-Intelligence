{
  "nbformat": 4,
  "nbformat_minor": 0,
  "metadata": {
    "colab": {
      "provenance": []
    },
    "kernelspec": {
      "name": "python3",
      "display_name": "Python 3"
    },
    "language_info": {
      "name": "python"
    }
  },
  "cells": [
    {
      "cell_type": "code",
      "execution_count": null,
      "metadata": {
        "id": "aw-3ew6Q29Bm"
      },
      "outputs": [],
      "source": []
    },
    {
      "cell_type": "markdown",
      "source": [
        "Install required package\n"
      ],
      "metadata": {
        "id": "ZvT6XX9R3IJV"
      }
    },
    {
      "cell_type": "code",
      "source": [
        "!pip install pygame\n",
        "!pip install gym pygame box2d pyvirtualdisplay\n",
        "!pip install tensorflow torch stable-baselines3\n",
        "!pip install gymnasium\n",
        "!pip install \"gymnasium[atari, accept-rom-license]\"\n",
        "!apt-get install -y swig\n"
      ],
      "metadata": {
        "colab": {
          "base_uri": "https://localhost:8080/"
        },
        "id": "_31i22ko3O5Z",
        "outputId": "8f848e7a-f527-44c6-cb5f-480eb43460ac"
      },
      "execution_count": null,
      "outputs": [
        {
          "output_type": "stream",
          "name": "stdout",
          "text": [
            "Requirement already satisfied: pygame in /usr/local/lib/python3.11/dist-packages (2.6.1)\n",
            "Requirement already satisfied: gym in /usr/local/lib/python3.11/dist-packages (0.25.2)\n",
            "Requirement already satisfied: pygame in /usr/local/lib/python3.11/dist-packages (2.6.1)\n",
            "Collecting box2d\n",
            "  Downloading Box2D-2.3.10-cp311-cp311-manylinux_2_17_x86_64.manylinux2014_x86_64.whl.metadata (573 bytes)\n",
            "Collecting pyvirtualdisplay\n",
            "  Downloading PyVirtualDisplay-3.0-py3-none-any.whl.metadata (943 bytes)\n",
            "Requirement already satisfied: numpy>=1.18.0 in /usr/local/lib/python3.11/dist-packages (from gym) (2.0.2)\n",
            "Requirement already satisfied: cloudpickle>=1.2.0 in /usr/local/lib/python3.11/dist-packages (from gym) (3.1.1)\n",
            "Requirement already satisfied: gym_notices>=0.0.4 in /usr/local/lib/python3.11/dist-packages (from gym) (0.0.8)\n",
            "Downloading Box2D-2.3.10-cp311-cp311-manylinux_2_17_x86_64.manylinux2014_x86_64.whl (3.7 MB)\n",
            "\u001b[2K   \u001b[90m━━━━━━━━━━━━━━━━━━━━━━━━━━━━━━━━━━━━━━━━\u001b[0m \u001b[32m3.7/3.7 MB\u001b[0m \u001b[31m67.0 MB/s\u001b[0m eta \u001b[36m0:00:00\u001b[0m\n",
            "\u001b[?25hDownloading PyVirtualDisplay-3.0-py3-none-any.whl (15 kB)\n",
            "Installing collected packages: pyvirtualdisplay, box2d\n",
            "Successfully installed box2d-2.3.10 pyvirtualdisplay-3.0\n",
            "Requirement already satisfied: tensorflow in /usr/local/lib/python3.11/dist-packages (2.18.0)\n",
            "Requirement already satisfied: torch in /usr/local/lib/python3.11/dist-packages (2.6.0+cu124)\n",
            "Collecting stable-baselines3\n",
            "  Downloading stable_baselines3-2.6.0-py3-none-any.whl.metadata (4.8 kB)\n",
            "Requirement already satisfied: absl-py>=1.0.0 in /usr/local/lib/python3.11/dist-packages (from tensorflow) (1.4.0)\n",
            "Requirement already satisfied: astunparse>=1.6.0 in /usr/local/lib/python3.11/dist-packages (from tensorflow) (1.6.3)\n",
            "Requirement already satisfied: flatbuffers>=24.3.25 in /usr/local/lib/python3.11/dist-packages (from tensorflow) (25.2.10)\n",
            "Requirement already satisfied: gast!=0.5.0,!=0.5.1,!=0.5.2,>=0.2.1 in /usr/local/lib/python3.11/dist-packages (from tensorflow) (0.6.0)\n",
            "Requirement already satisfied: google-pasta>=0.1.1 in /usr/local/lib/python3.11/dist-packages (from tensorflow) (0.2.0)\n",
            "Requirement already satisfied: libclang>=13.0.0 in /usr/local/lib/python3.11/dist-packages (from tensorflow) (18.1.1)\n",
            "Requirement already satisfied: opt-einsum>=2.3.2 in /usr/local/lib/python3.11/dist-packages (from tensorflow) (3.4.0)\n",
            "Requirement already satisfied: packaging in /usr/local/lib/python3.11/dist-packages (from tensorflow) (24.2)\n",
            "Requirement already satisfied: protobuf!=4.21.0,!=4.21.1,!=4.21.2,!=4.21.3,!=4.21.4,!=4.21.5,<6.0.0dev,>=3.20.3 in /usr/local/lib/python3.11/dist-packages (from tensorflow) (5.29.4)\n",
            "Requirement already satisfied: requests<3,>=2.21.0 in /usr/local/lib/python3.11/dist-packages (from tensorflow) (2.32.3)\n",
            "Requirement already satisfied: setuptools in /usr/local/lib/python3.11/dist-packages (from tensorflow) (75.1.0)\n",
            "Requirement already satisfied: six>=1.12.0 in /usr/local/lib/python3.11/dist-packages (from tensorflow) (1.17.0)\n",
            "Requirement already satisfied: termcolor>=1.1.0 in /usr/local/lib/python3.11/dist-packages (from tensorflow) (2.5.0)\n",
            "Requirement already satisfied: typing-extensions>=3.6.6 in /usr/local/lib/python3.11/dist-packages (from tensorflow) (4.12.2)\n",
            "Requirement already satisfied: wrapt>=1.11.0 in /usr/local/lib/python3.11/dist-packages (from tensorflow) (1.17.2)\n",
            "Requirement already satisfied: grpcio<2.0,>=1.24.3 in /usr/local/lib/python3.11/dist-packages (from tensorflow) (1.71.0)\n",
            "Requirement already satisfied: tensorboard<2.19,>=2.18 in /usr/local/lib/python3.11/dist-packages (from tensorflow) (2.18.0)\n",
            "Requirement already satisfied: keras>=3.5.0 in /usr/local/lib/python3.11/dist-packages (from tensorflow) (3.8.0)\n",
            "Requirement already satisfied: numpy<2.1.0,>=1.26.0 in /usr/local/lib/python3.11/dist-packages (from tensorflow) (2.0.2)\n",
            "Requirement already satisfied: h5py>=3.11.0 in /usr/local/lib/python3.11/dist-packages (from tensorflow) (3.13.0)\n",
            "Requirement already satisfied: ml-dtypes<0.5.0,>=0.4.0 in /usr/local/lib/python3.11/dist-packages (from tensorflow) (0.4.1)\n",
            "Requirement already satisfied: tensorflow-io-gcs-filesystem>=0.23.1 in /usr/local/lib/python3.11/dist-packages (from tensorflow) (0.37.1)\n",
            "Requirement already satisfied: filelock in /usr/local/lib/python3.11/dist-packages (from torch) (3.18.0)\n",
            "Requirement already satisfied: networkx in /usr/local/lib/python3.11/dist-packages (from torch) (3.4.2)\n",
            "Requirement already satisfied: jinja2 in /usr/local/lib/python3.11/dist-packages (from torch) (3.1.6)\n",
            "Requirement already satisfied: fsspec in /usr/local/lib/python3.11/dist-packages (from torch) (2025.3.0)\n",
            "Collecting nvidia-cuda-nvrtc-cu12==12.4.127 (from torch)\n",
            "  Downloading nvidia_cuda_nvrtc_cu12-12.4.127-py3-none-manylinux2014_x86_64.whl.metadata (1.5 kB)\n",
            "Collecting nvidia-cuda-runtime-cu12==12.4.127 (from torch)\n",
            "  Downloading nvidia_cuda_runtime_cu12-12.4.127-py3-none-manylinux2014_x86_64.whl.metadata (1.5 kB)\n",
            "Collecting nvidia-cuda-cupti-cu12==12.4.127 (from torch)\n",
            "  Downloading nvidia_cuda_cupti_cu12-12.4.127-py3-none-manylinux2014_x86_64.whl.metadata (1.6 kB)\n",
            "Collecting nvidia-cudnn-cu12==9.1.0.70 (from torch)\n",
            "  Downloading nvidia_cudnn_cu12-9.1.0.70-py3-none-manylinux2014_x86_64.whl.metadata (1.6 kB)\n",
            "Collecting nvidia-cublas-cu12==12.4.5.8 (from torch)\n",
            "  Downloading nvidia_cublas_cu12-12.4.5.8-py3-none-manylinux2014_x86_64.whl.metadata (1.5 kB)\n",
            "Collecting nvidia-cufft-cu12==11.2.1.3 (from torch)\n",
            "  Downloading nvidia_cufft_cu12-11.2.1.3-py3-none-manylinux2014_x86_64.whl.metadata (1.5 kB)\n",
            "Collecting nvidia-curand-cu12==10.3.5.147 (from torch)\n",
            "  Downloading nvidia_curand_cu12-10.3.5.147-py3-none-manylinux2014_x86_64.whl.metadata (1.5 kB)\n",
            "Collecting nvidia-cusolver-cu12==11.6.1.9 (from torch)\n",
            "  Downloading nvidia_cusolver_cu12-11.6.1.9-py3-none-manylinux2014_x86_64.whl.metadata (1.6 kB)\n",
            "Collecting nvidia-cusparse-cu12==12.3.1.170 (from torch)\n",
            "  Downloading nvidia_cusparse_cu12-12.3.1.170-py3-none-manylinux2014_x86_64.whl.metadata (1.6 kB)\n",
            "Requirement already satisfied: nvidia-cusparselt-cu12==0.6.2 in /usr/local/lib/python3.11/dist-packages (from torch) (0.6.2)\n",
            "Requirement already satisfied: nvidia-nccl-cu12==2.21.5 in /usr/local/lib/python3.11/dist-packages (from torch) (2.21.5)\n",
            "Requirement already satisfied: nvidia-nvtx-cu12==12.4.127 in /usr/local/lib/python3.11/dist-packages (from torch) (12.4.127)\n",
            "Collecting nvidia-nvjitlink-cu12==12.4.127 (from torch)\n",
            "  Downloading nvidia_nvjitlink_cu12-12.4.127-py3-none-manylinux2014_x86_64.whl.metadata (1.5 kB)\n",
            "Requirement already satisfied: triton==3.2.0 in /usr/local/lib/python3.11/dist-packages (from torch) (3.2.0)\n",
            "Requirement already satisfied: sympy==1.13.1 in /usr/local/lib/python3.11/dist-packages (from torch) (1.13.1)\n",
            "Requirement already satisfied: mpmath<1.4,>=1.1.0 in /usr/local/lib/python3.11/dist-packages (from sympy==1.13.1->torch) (1.3.0)\n",
            "Requirement already satisfied: gymnasium<1.2.0,>=0.29.1 in /usr/local/lib/python3.11/dist-packages (from stable-baselines3) (1.1.1)\n",
            "Requirement already satisfied: cloudpickle in /usr/local/lib/python3.11/dist-packages (from stable-baselines3) (3.1.1)\n",
            "Requirement already satisfied: pandas in /usr/local/lib/python3.11/dist-packages (from stable-baselines3) (2.2.2)\n",
            "Requirement already satisfied: matplotlib in /usr/local/lib/python3.11/dist-packages (from stable-baselines3) (3.10.0)\n",
            "Requirement already satisfied: wheel<1.0,>=0.23.0 in /usr/local/lib/python3.11/dist-packages (from astunparse>=1.6.0->tensorflow) (0.45.1)\n",
            "Requirement already satisfied: farama-notifications>=0.0.1 in /usr/local/lib/python3.11/dist-packages (from gymnasium<1.2.0,>=0.29.1->stable-baselines3) (0.0.4)\n",
            "Requirement already satisfied: rich in /usr/local/lib/python3.11/dist-packages (from keras>=3.5.0->tensorflow) (13.9.4)\n",
            "Requirement already satisfied: namex in /usr/local/lib/python3.11/dist-packages (from keras>=3.5.0->tensorflow) (0.0.8)\n",
            "Requirement already satisfied: optree in /usr/local/lib/python3.11/dist-packages (from keras>=3.5.0->tensorflow) (0.14.1)\n",
            "Requirement already satisfied: charset-normalizer<4,>=2 in /usr/local/lib/python3.11/dist-packages (from requests<3,>=2.21.0->tensorflow) (3.4.1)\n",
            "Requirement already satisfied: idna<4,>=2.5 in /usr/local/lib/python3.11/dist-packages (from requests<3,>=2.21.0->tensorflow) (3.10)\n",
            "Requirement already satisfied: urllib3<3,>=1.21.1 in /usr/local/lib/python3.11/dist-packages (from requests<3,>=2.21.0->tensorflow) (2.3.0)\n",
            "Requirement already satisfied: certifi>=2017.4.17 in /usr/local/lib/python3.11/dist-packages (from requests<3,>=2.21.0->tensorflow) (2025.1.31)\n",
            "Requirement already satisfied: markdown>=2.6.8 in /usr/local/lib/python3.11/dist-packages (from tensorboard<2.19,>=2.18->tensorflow) (3.7)\n",
            "Requirement already satisfied: tensorboard-data-server<0.8.0,>=0.7.0 in /usr/local/lib/python3.11/dist-packages (from tensorboard<2.19,>=2.18->tensorflow) (0.7.2)\n",
            "Requirement already satisfied: werkzeug>=1.0.1 in /usr/local/lib/python3.11/dist-packages (from tensorboard<2.19,>=2.18->tensorflow) (3.1.3)\n",
            "Requirement already satisfied: MarkupSafe>=2.0 in /usr/local/lib/python3.11/dist-packages (from jinja2->torch) (3.0.2)\n",
            "Requirement already satisfied: contourpy>=1.0.1 in /usr/local/lib/python3.11/dist-packages (from matplotlib->stable-baselines3) (1.3.1)\n",
            "Requirement already satisfied: cycler>=0.10 in /usr/local/lib/python3.11/dist-packages (from matplotlib->stable-baselines3) (0.12.1)\n",
            "Requirement already satisfied: fonttools>=4.22.0 in /usr/local/lib/python3.11/dist-packages (from matplotlib->stable-baselines3) (4.56.0)\n",
            "Requirement already satisfied: kiwisolver>=1.3.1 in /usr/local/lib/python3.11/dist-packages (from matplotlib->stable-baselines3) (1.4.8)\n",
            "Requirement already satisfied: pillow>=8 in /usr/local/lib/python3.11/dist-packages (from matplotlib->stable-baselines3) (11.1.0)\n",
            "Requirement already satisfied: pyparsing>=2.3.1 in /usr/local/lib/python3.11/dist-packages (from matplotlib->stable-baselines3) (3.2.1)\n",
            "Requirement already satisfied: python-dateutil>=2.7 in /usr/local/lib/python3.11/dist-packages (from matplotlib->stable-baselines3) (2.8.2)\n",
            "Requirement already satisfied: pytz>=2020.1 in /usr/local/lib/python3.11/dist-packages (from pandas->stable-baselines3) (2025.1)\n",
            "Requirement already satisfied: tzdata>=2022.7 in /usr/local/lib/python3.11/dist-packages (from pandas->stable-baselines3) (2025.1)\n",
            "Requirement already satisfied: markdown-it-py>=2.2.0 in /usr/local/lib/python3.11/dist-packages (from rich->keras>=3.5.0->tensorflow) (3.0.0)\n",
            "Requirement already satisfied: pygments<3.0.0,>=2.13.0 in /usr/local/lib/python3.11/dist-packages (from rich->keras>=3.5.0->tensorflow) (2.18.0)\n",
            "Requirement already satisfied: mdurl~=0.1 in /usr/local/lib/python3.11/dist-packages (from markdown-it-py>=2.2.0->rich->keras>=3.5.0->tensorflow) (0.1.2)\n",
            "Downloading nvidia_cublas_cu12-12.4.5.8-py3-none-manylinux2014_x86_64.whl (363.4 MB)\n",
            "\u001b[2K   \u001b[90m━━━━━━━━━━━━━━━━━━━━━━━━━━━━━━━━━━━━━━━━\u001b[0m \u001b[32m363.4/363.4 MB\u001b[0m \u001b[31m4.3 MB/s\u001b[0m eta \u001b[36m0:00:00\u001b[0m\n",
            "\u001b[?25hDownloading nvidia_cuda_cupti_cu12-12.4.127-py3-none-manylinux2014_x86_64.whl (13.8 MB)\n",
            "\u001b[2K   \u001b[90m━━━━━━━━━━━━━━━━━━━━━━━━━━━━━━━━━━━━━━━━\u001b[0m \u001b[32m13.8/13.8 MB\u001b[0m \u001b[31m65.9 MB/s\u001b[0m eta \u001b[36m0:00:00\u001b[0m\n",
            "\u001b[?25hDownloading nvidia_cuda_nvrtc_cu12-12.4.127-py3-none-manylinux2014_x86_64.whl (24.6 MB)\n",
            "\u001b[2K   \u001b[90m━━━━━━━━━━━━━━━━━━━━━━━━━━━━━━━━━━━━━━━━\u001b[0m \u001b[32m24.6/24.6 MB\u001b[0m \u001b[31m52.4 MB/s\u001b[0m eta \u001b[36m0:00:00\u001b[0m\n",
            "\u001b[?25hDownloading nvidia_cuda_runtime_cu12-12.4.127-py3-none-manylinux2014_x86_64.whl (883 kB)\n",
            "\u001b[2K   \u001b[90m━━━━━━━━━━━━━━━━━━━━━━━━━━━━━━━━━━━━━━━━\u001b[0m \u001b[32m883.7/883.7 kB\u001b[0m \u001b[31m39.5 MB/s\u001b[0m eta \u001b[36m0:00:00\u001b[0m\n",
            "\u001b[?25hDownloading nvidia_cudnn_cu12-9.1.0.70-py3-none-manylinux2014_x86_64.whl (664.8 MB)\n",
            "\u001b[2K   \u001b[90m━━━━━━━━━━━━━━━━━━━━━━━━━━━━━━━━━━━━━━━━\u001b[0m \u001b[32m664.8/664.8 MB\u001b[0m \u001b[31m2.6 MB/s\u001b[0m eta \u001b[36m0:00:00\u001b[0m\n",
            "\u001b[?25hDownloading nvidia_cufft_cu12-11.2.1.3-py3-none-manylinux2014_x86_64.whl (211.5 MB)\n",
            "\u001b[2K   \u001b[90m━━━━━━━━━━━━━━━━━━━━━━━━━━━━━━━━━━━━━━━━\u001b[0m \u001b[32m211.5/211.5 MB\u001b[0m \u001b[31m5.7 MB/s\u001b[0m eta \u001b[36m0:00:00\u001b[0m\n",
            "\u001b[?25hDownloading nvidia_curand_cu12-10.3.5.147-py3-none-manylinux2014_x86_64.whl (56.3 MB)\n",
            "\u001b[2K   \u001b[90m━━━━━━━━━━━━━━━━━━━━━━━━━━━━━━━━━━━━━━━━\u001b[0m \u001b[32m56.3/56.3 MB\u001b[0m \u001b[31m10.7 MB/s\u001b[0m eta \u001b[36m0:00:00\u001b[0m\n",
            "\u001b[?25hDownloading nvidia_cusolver_cu12-11.6.1.9-py3-none-manylinux2014_x86_64.whl (127.9 MB)\n",
            "\u001b[2K   \u001b[90m━━━━━━━━━━━━━━━━━━━━━━━━━━━━━━━━━━━━━━━━\u001b[0m \u001b[32m127.9/127.9 MB\u001b[0m \u001b[31m7.5 MB/s\u001b[0m eta \u001b[36m0:00:00\u001b[0m\n",
            "\u001b[?25hDownloading nvidia_cusparse_cu12-12.3.1.170-py3-none-manylinux2014_x86_64.whl (207.5 MB)\n",
            "\u001b[2K   \u001b[90m━━━━━━━━━━━━━━━━━━━━━━━━━━━━━━━━━━━━━━━━\u001b[0m \u001b[32m207.5/207.5 MB\u001b[0m \u001b[31m6.1 MB/s\u001b[0m eta \u001b[36m0:00:00\u001b[0m\n",
            "\u001b[?25hDownloading nvidia_nvjitlink_cu12-12.4.127-py3-none-manylinux2014_x86_64.whl (21.1 MB)\n",
            "\u001b[2K   \u001b[90m━━━━━━━━━━━━━━━━━━━━━━━━━━━━━━━━━━━━━━━━\u001b[0m \u001b[32m21.1/21.1 MB\u001b[0m \u001b[31m79.5 MB/s\u001b[0m eta \u001b[36m0:00:00\u001b[0m\n",
            "\u001b[?25hDownloading stable_baselines3-2.6.0-py3-none-any.whl (184 kB)\n",
            "\u001b[2K   \u001b[90m━━━━━━━━━━━━━━━━━━━━━━━━━━━━━━━━━━━━━━━━\u001b[0m \u001b[32m184.5/184.5 kB\u001b[0m \u001b[31m11.6 MB/s\u001b[0m eta \u001b[36m0:00:00\u001b[0m\n",
            "\u001b[?25hInstalling collected packages: nvidia-nvjitlink-cu12, nvidia-curand-cu12, nvidia-cufft-cu12, nvidia-cuda-runtime-cu12, nvidia-cuda-nvrtc-cu12, nvidia-cuda-cupti-cu12, nvidia-cublas-cu12, nvidia-cusparse-cu12, nvidia-cudnn-cu12, nvidia-cusolver-cu12, stable-baselines3\n",
            "  Attempting uninstall: nvidia-nvjitlink-cu12\n",
            "    Found existing installation: nvidia-nvjitlink-cu12 12.5.82\n",
            "    Uninstalling nvidia-nvjitlink-cu12-12.5.82:\n",
            "      Successfully uninstalled nvidia-nvjitlink-cu12-12.5.82\n",
            "  Attempting uninstall: nvidia-curand-cu12\n",
            "    Found existing installation: nvidia-curand-cu12 10.3.6.82\n",
            "    Uninstalling nvidia-curand-cu12-10.3.6.82:\n",
            "      Successfully uninstalled nvidia-curand-cu12-10.3.6.82\n",
            "  Attempting uninstall: nvidia-cufft-cu12\n",
            "    Found existing installation: nvidia-cufft-cu12 11.2.3.61\n",
            "    Uninstalling nvidia-cufft-cu12-11.2.3.61:\n",
            "      Successfully uninstalled nvidia-cufft-cu12-11.2.3.61\n",
            "  Attempting uninstall: nvidia-cuda-runtime-cu12\n",
            "    Found existing installation: nvidia-cuda-runtime-cu12 12.5.82\n",
            "    Uninstalling nvidia-cuda-runtime-cu12-12.5.82:\n",
            "      Successfully uninstalled nvidia-cuda-runtime-cu12-12.5.82\n",
            "  Attempting uninstall: nvidia-cuda-nvrtc-cu12\n",
            "    Found existing installation: nvidia-cuda-nvrtc-cu12 12.5.82\n",
            "    Uninstalling nvidia-cuda-nvrtc-cu12-12.5.82:\n",
            "      Successfully uninstalled nvidia-cuda-nvrtc-cu12-12.5.82\n",
            "  Attempting uninstall: nvidia-cuda-cupti-cu12\n",
            "    Found existing installation: nvidia-cuda-cupti-cu12 12.5.82\n",
            "    Uninstalling nvidia-cuda-cupti-cu12-12.5.82:\n",
            "      Successfully uninstalled nvidia-cuda-cupti-cu12-12.5.82\n",
            "  Attempting uninstall: nvidia-cublas-cu12\n",
            "    Found existing installation: nvidia-cublas-cu12 12.5.3.2\n",
            "    Uninstalling nvidia-cublas-cu12-12.5.3.2:\n",
            "      Successfully uninstalled nvidia-cublas-cu12-12.5.3.2\n",
            "  Attempting uninstall: nvidia-cusparse-cu12\n",
            "    Found existing installation: nvidia-cusparse-cu12 12.5.1.3\n",
            "    Uninstalling nvidia-cusparse-cu12-12.5.1.3:\n",
            "      Successfully uninstalled nvidia-cusparse-cu12-12.5.1.3\n",
            "  Attempting uninstall: nvidia-cudnn-cu12\n",
            "    Found existing installation: nvidia-cudnn-cu12 9.3.0.75\n",
            "    Uninstalling nvidia-cudnn-cu12-9.3.0.75:\n",
            "      Successfully uninstalled nvidia-cudnn-cu12-9.3.0.75\n",
            "  Attempting uninstall: nvidia-cusolver-cu12\n",
            "    Found existing installation: nvidia-cusolver-cu12 11.6.3.83\n",
            "    Uninstalling nvidia-cusolver-cu12-11.6.3.83:\n",
            "      Successfully uninstalled nvidia-cusolver-cu12-11.6.3.83\n",
            "Successfully installed nvidia-cublas-cu12-12.4.5.8 nvidia-cuda-cupti-cu12-12.4.127 nvidia-cuda-nvrtc-cu12-12.4.127 nvidia-cuda-runtime-cu12-12.4.127 nvidia-cudnn-cu12-9.1.0.70 nvidia-cufft-cu12-11.2.1.3 nvidia-curand-cu12-10.3.5.147 nvidia-cusolver-cu12-11.6.1.9 nvidia-cusparse-cu12-12.3.1.170 nvidia-nvjitlink-cu12-12.4.127 stable-baselines3-2.6.0\n",
            "Requirement already satisfied: gymnasium in /usr/local/lib/python3.11/dist-packages (1.1.1)\n",
            "Requirement already satisfied: numpy>=1.21.0 in /usr/local/lib/python3.11/dist-packages (from gymnasium) (2.0.2)\n",
            "Requirement already satisfied: cloudpickle>=1.2.0 in /usr/local/lib/python3.11/dist-packages (from gymnasium) (3.1.1)\n",
            "Requirement already satisfied: typing-extensions>=4.3.0 in /usr/local/lib/python3.11/dist-packages (from gymnasium) (4.12.2)\n",
            "Requirement already satisfied: farama-notifications>=0.0.1 in /usr/local/lib/python3.11/dist-packages (from gymnasium) (0.0.4)\n",
            "Requirement already satisfied: gymnasium[accept-rom-license,atari] in /usr/local/lib/python3.11/dist-packages (1.1.1)\n",
            "\u001b[33mWARNING: gymnasium 1.1.1 does not provide the extra 'accept-rom-license'\u001b[0m\u001b[33m\n",
            "\u001b[0mRequirement already satisfied: numpy>=1.21.0 in /usr/local/lib/python3.11/dist-packages (from gymnasium[accept-rom-license,atari]) (2.0.2)\n",
            "Requirement already satisfied: cloudpickle>=1.2.0 in /usr/local/lib/python3.11/dist-packages (from gymnasium[accept-rom-license,atari]) (3.1.1)\n",
            "Requirement already satisfied: typing-extensions>=4.3.0 in /usr/local/lib/python3.11/dist-packages (from gymnasium[accept-rom-license,atari]) (4.12.2)\n",
            "Requirement already satisfied: farama-notifications>=0.0.1 in /usr/local/lib/python3.11/dist-packages (from gymnasium[accept-rom-license,atari]) (0.0.4)\n",
            "Requirement already satisfied: ale_py>=0.9 in /usr/local/lib/python3.11/dist-packages (from gymnasium[accept-rom-license,atari]) (0.10.2)\n",
            "Reading package lists... Done\n",
            "Building dependency tree... Done\n",
            "Reading state information... Done\n",
            "The following additional packages will be installed:\n",
            "  swig4.0\n",
            "Suggested packages:\n",
            "  swig-doc swig-examples swig4.0-examples swig4.0-doc\n",
            "The following NEW packages will be installed:\n",
            "  swig swig4.0\n",
            "0 upgraded, 2 newly installed, 0 to remove and 29 not upgraded.\n",
            "Need to get 1,116 kB of archives.\n",
            "After this operation, 5,542 kB of additional disk space will be used.\n",
            "Get:1 http://archive.ubuntu.com/ubuntu jammy/universe amd64 swig4.0 amd64 4.0.2-1ubuntu1 [1,110 kB]\n",
            "Get:2 http://archive.ubuntu.com/ubuntu jammy/universe amd64 swig all 4.0.2-1ubuntu1 [5,632 B]\n",
            "Fetched 1,116 kB in 0s (7,348 kB/s)\n",
            "Selecting previously unselected package swig4.0.\n",
            "(Reading database ... 126209 files and directories currently installed.)\n",
            "Preparing to unpack .../swig4.0_4.0.2-1ubuntu1_amd64.deb ...\n",
            "Unpacking swig4.0 (4.0.2-1ubuntu1) ...\n",
            "Selecting previously unselected package swig.\n",
            "Preparing to unpack .../swig_4.0.2-1ubuntu1_all.deb ...\n",
            "Unpacking swig (4.0.2-1ubuntu1) ...\n",
            "Setting up swig4.0 (4.0.2-1ubuntu1) ...\n",
            "Setting up swig (4.0.2-1ubuntu1) ...\n",
            "Processing triggers for man-db (2.10.2-1) ...\n"
          ]
        }
      ]
    },
    {
      "cell_type": "markdown",
      "source": [
        "Importing all required libraries"
      ],
      "metadata": {
        "id": "4xFnR5in4NtH"
      }
    },
    {
      "cell_type": "code",
      "source": [
        "import os\n",
        "# we use random library for data processing training model and simulating real world randomness\n",
        "import random\n",
        "# numpy used for arrays and mathematics operation\n",
        "import numpy as np\n",
        "# torch library is the core package of pytorch we use in AI,ML and DL project because of its flexibility ease of use and dynamic computation\n",
        "import torch\n",
        "#PyTorch provides a powerful neural network module (torch.nn) to build and train deep learning models\n",
        "import torch.nn as nn\n",
        "# When training a neural network, weights (parameters) need to be updated to minimize errors\n",
        "# torch.optim provides built-in optimizers to perform this efficiently.\n",
        "import torch.optim as optim\n",
        "# The torch.nn.functional module in PyTorch provides stateless functions for neural network operations such as activation functions,\n",
        "# loss functions, and convolutional layers It is widely used in  (AI) and (DL) projects because it offers more flexibility compared to using torch.nn layers\n",
        "import torch.nn.functional as F\n",
        "# The torch.autograd library in PyTorch is used for automatic differentiation, which is essential for\n",
        "#  training  (AI) and  (DL) models. It automates gradient computation needed for backpropagation,\n",
        "#  making neural network training easier and more efficient\n",
        "import torch.autograd as autograd\n",
        "# In early versions of PyTorch (before v0.4.0), Variable was used to wrap tensors and enable automatic differentiation\n",
        "# using torch.autograd. However, since PyTorch v0.4.0, Variable is no longer needed because torch.Tensor now supports autograd directly.\n",
        "from torch.autograd import Variable\n",
        "#The collections module in Python provides specialized data structures that are more efficient than standard lists and tuples for specific tasks\n",
        "from collections import deque, namedtuple"
      ],
      "metadata": {
        "id": "4ar30_hM4SwP"
      },
      "execution_count": null,
      "outputs": []
    },
    {
      "source": [
        "import os\n",
        "# we use random library for data processing training model and simulating real world randomness\n",
        "import random\n",
        "# numpy used for arrays and mathematics operation\n",
        "import numpy as np\n",
        "# torch library is the core package of pytorch we use in AI,ML and DL project because of its flexibility ease of use and dynamic computation\n",
        "import torch\n",
        "#PyTorch provides a powerful neural network module (torch.nn) to build and train deep learning models\n",
        "import torch.nn as nn # Import torch.nn as nn\n",
        "# When training a neural network, weights (parameters) need to be updated to minimize errors\n",
        "# torch.optim provides built-in optimizers to perform this efficiently.\n",
        "import torch.optim as optim\n",
        "# The torch.nn.functional module in PyTorch provides stateless functions for neural network operations such as activation functions,\n",
        "# loss functions, and convolutional layers It is widely used in  (AI) and (DL) projects because it offers more flexibility compared to using torch.nn layers\n",
        "import torch.nn.functional as F\n",
        "# The torch.autograd library in PyTorch is used for automatic differentiation, which is essential for\n",
        "#  training  (AI) and  (DL) models. It automates gradient computation needed for backpropagation,\n",
        "#  making neural network training easier and more efficient\n",
        "import torch.autograd as autograd\n",
        "# In early versions of PyTorch (before v0.4.0), Variable was used to wrap tensors and enable automatic differentiation\n",
        "# using torch.autograd. However, since PyTorch v0.4.0, Variable is no longer needed because torch.Tensor now supports autograd directly.\n",
        "from torch.autograd import Variable\n",
        "#The collections module in Python provides specialized data structures that are more efficient than standard lists and tuples for specific tasks\n",
        "from collections import deque, namedtuple"
      ],
      "cell_type": "code",
      "metadata": {
        "id": "6QVa6Wnn6Yli"
      },
      "execution_count": null,
      "outputs": []
    },
    {
      "cell_type": "markdown",
      "source": [
        "# Part -1 Building the AI"
      ],
      "metadata": {
        "id": "ixnC93yo4-f-"
      }
    },
    {
      "cell_type": "markdown",
      "source": [
        "Creating the architecture of Nerual Network"
      ],
      "metadata": {
        "id": "ek7dKEVx5FEE"
      }
    },
    {
      "cell_type": "code",
      "source": [
        "# Creating the architecture of the Neural Network\n",
        "# First we define class network this class define brain of our class\n",
        "class Network(nn.Module):\n",
        "\n",
        "  def __init__(self, state_size, action_size, seed = 42): # here seed is a numerical value used for random number generator used in the network\n",
        "    super(Network, self).__init__()\n",
        "    self.seed = torch.manual_seed(seed)\n",
        "    self.fc1 = nn.Linear(state_size, 64) # input layer\n",
        "    self.fc2 = nn.Linear(64, 64)  # hidden layer\n",
        "    self.fc3 = nn.Linear(64, action_size) # outpur layer\n",
        "# This function is used for forward propagation\n",
        "  def forward(self, state):\n",
        "    x = self.fc1(state)\n",
        "    x = F.relu(x) # we apply rectifier function(recitifier linear unit) is commonly used for activition function in hidden layer\n",
        "    x = self.fc2(x)\n",
        "    x = F.relu(x)\n",
        "    return self.fc3(x) # we not apply rectifier function on output layer\n"
      ],
      "metadata": {
        "id": "EY3BxcYR5O9k"
      },
      "execution_count": null,
      "outputs": []
    },
    {
      "cell_type": "markdown",
      "source": [
        "# Training the AI"
      ],
      "metadata": {
        "id": "iMZSq2-BHsu2"
      }
    },
    {
      "cell_type": "markdown",
      "source": [
        "Setting up the Environment"
      ],
      "metadata": {
        "id": "KYnkxTPSHwvk"
      }
    },
    {
      "cell_type": "code",
      "source": [
        "import gymnasium as gym\n",
        "env = gym.make('LunarLander-v3')\n",
        "state_shape = env.observation_space.shape #observation space is the space of all possibe input that the agent can recieve\n",
        "state_size = env.observation_space.shape[0] # number or dimensions that describe the current state of the enviornment\n",
        "number_actions = env.action_space.n # is used to get the number of possible actions in a discrete action space\n",
        "print(\"state shape:\" , state_shape)\n",
        "print(\"state_size\" , state_size)\n",
        "print(\"Number of action\" , number_actions)"
      ],
      "metadata": {
        "colab": {
          "base_uri": "https://localhost:8080/"
        },
        "id": "_iqQJ1CLH30H",
        "outputId": "05421649-ff75-4bce-c8f4-bfd555931dc7"
      },
      "execution_count": null,
      "outputs": [
        {
          "output_type": "stream",
          "name": "stdout",
          "text": [
            "state shape: (8,)\n",
            "state_size 8\n",
            "Number of action 4\n"
          ]
        }
      ]
    },
    {
      "cell_type": "markdown",
      "source": [
        "Initializing the hyperparameter"
      ],
      "metadata": {
        "id": "DQYiXO9cffTH"
      }
    },
    {
      "cell_type": "code",
      "source": [
        "# Initializing the hyperparameters\n",
        "\n",
        "learning_rate = 5e-4 # learning rate is a scalar value that determines the step_size of each update to the model's parameter during training\n",
        "minibatch_size = 100 #  In nerual network a batch refers to a group of training examples that are processed together through a network to improve performance and efficency\n",
        "discount_factor = 0.99 # used to determine the discounted commulative reward(scaler value between 0 and 1)\n",
        "replay_buffer_size = int(1e5) # data structure is used to store the experiences gathered by the agent during training\n",
        "interpolation_parameter = 1e-3 # This control the change rate of target network to match local network"
      ],
      "metadata": {
        "id": "uYiASkaufjYm"
      },
      "execution_count": null,
      "outputs": []
    },
    {
      "cell_type": "markdown",
      "source": [
        "Implementing Experience Replay"
      ],
      "metadata": {
        "id": "epvzo-U-x7Uv"
      }
    },
    {
      "cell_type": "code",
      "source": [
        "# Implementing Experience Replay\n",
        "\n",
        "class ReplayMemory(object):\n",
        "\n",
        "  def __init__(self, capacity):\n",
        "    self.device = torch.device(\"cuda:0\" if torch.cuda.is_available() else \"cpu\")\n",
        "    self.capacity = capacity # check the capacity of memory which store the experience\n",
        "    self.memory = [] # memory is list which store the experience which contain action, reward,next_state, and boolean\n",
        "\n",
        "  def push(self, event): # this function push experiences into memory\n",
        "    self.memory.append(event)\n",
        "    if len(self.memory) > self.capacity:\n",
        "      del self.memory[0] # if memory exceed we will delete the first element work on LIFO algorithm\n",
        "# sample function contain sample of experiences that the agent take\n",
        "  def sample(self, batch_size):\n",
        "    experiences = random.sample(self.memory, k = batch_size) # we extract state,action,reward, etc from memory and store it in experiences(batch_size represent the number of experience in the state)\n",
        "    states = torch.from_numpy(np.vstack([e[0] for e in experiences if e is not None])).float().to(self.device)\n",
        "    actions = torch.from_numpy(np.vstack([e[1] for e in experiences if e is not None])).long().to(self.device)\n",
        "    rewards = torch.from_numpy(np.vstack([e[2] for e in experiences if e is not None])).float().to(self.device)\n",
        "    next_states = torch.from_numpy(np.vstack([e[3] for e in experiences if e is not None])).float().to(self.device)\n",
        "    dones = torch.from_numpy(np.vstack([e[4] for e in experiences if e is not None]).astype(np.uint8)).float().to(self.device)\n",
        "    return states, next_states, actions, rewards, dones\n"
      ],
      "metadata": {
        "id": "Yo3UqwFVyArs"
      },
      "execution_count": null,
      "outputs": []
    },
    {
      "cell_type": "markdown",
      "source": [
        "Implementing the DQN class"
      ],
      "metadata": {
        "id": "LTdLSo7PVWFb"
      }
    },
    {
      "cell_type": "code",
      "source": [
        "# Implementing the DQN class\n",
        "\n",
        "class Agent():\n",
        "\n",
        "  def __init__(self, state_size, action_size):\n",
        "    self.device = torch.device(\"cuda:0\" if torch.cuda.is_available() else \"cpu\")\n",
        "    self.state_size = state_size\n",
        "    self.action_size = action_size\n",
        "    # local qnetowrk used for exploration and update frequently\n",
        "    self.local_qnetwork = Network(state_size, action_size).to(self.device)\n",
        "    # target qnetwork estimate the best value for local qnetwork. target qnetwork update every 100 or 1000 iteration\n",
        "    self.target_qnetwork = Network(state_size, action_size).to(self.device)\n",
        "    # optimizier is commonly used to update the weights of the online network\n",
        "    self.optimizer = optim.Adam(self.local_qnetwork.parameters(), lr = learning_rate)\n",
        "    # we create an instance ReplayMemory class\n",
        "    self.memory = ReplayMemory(replay_buffer_size)\n",
        "    # self.t_step is used to keep track of the time step or iteration\n",
        "    self.t_step = 0\n",
        "\n",
        "  def step(self, state, action, reward, next_state, done):\n",
        "    self.memory.push((state, action, reward, next_state, done))\n",
        "    self.t_step = (self.t_step + 1) % 4 # by using this the network updated every 4 time step which can help to improve stability and efficiency\n",
        "    if self.t_step == 0:\n",
        "      if len(self.memory.memory) > minibatch_size: # memory buffer has enough experience to sample a mini_batch\n",
        "        experiences = self.memory.sample(100)\n",
        "        self.learn(experiences, discount_factor)\n",
        "# our act method work on epsilon greedy method\n",
        "  def act(self, state, epsilon = 0.):\n",
        "    state = torch.from_numpy(state).float().unsqueeze(0).to(self.device)\n",
        "    self.local_qnetwork.eval()\n",
        "    with torch.no_grad():\n",
        "      action_values = self.local_qnetwork(state)\n",
        "    self.local_qnetwork.train()\n",
        "    if random.random() > epsilon:\n",
        "      return np.argmax(action_values.cpu().data.numpy())\n",
        "    else:\n",
        "      return random.choice(np.arange(self.action_size))\n",
        "# learn function updates the agent's nerual network using the experiences and discount factor\n",
        "  def learn(self, experiences, discount_factor):\n",
        "    states, next_states, actions, rewards, dones = experiences\n",
        "    next_q_targets = self.target_qnetwork(next_states).detach().max(1)[0].unsqueeze(1)\n",
        "    q_targets = rewards + discount_factor * next_q_targets * (1 - dones)\n",
        "    q_expected = self.local_qnetwork(states).gather(1, actions)\n",
        "    loss = F.mse_loss(q_expected, q_targets)\n",
        "    self.optimizer.zero_grad()\n",
        "    loss.backward()\n",
        "    self.optimizer.step()\n",
        "    self.soft_update(self.local_qnetwork, self.target_qnetwork, interpolation_parameter)\n",
        "# this function update the target qnetwork towards the local qnetwork using an interpolation parameter\n",
        "  def soft_update(self, local_model, target_model, interpolation_parameter):\n",
        "    for target_param, local_param in zip(target_model.parameters(), local_model.parameters()):\n",
        "      target_param.data.copy_(interpolation_parameter * local_param.data + (1.0 - interpolation_parameter) * target_param.data)\n"
      ],
      "metadata": {
        "id": "u6vxQhJLVZ1Z"
      },
      "execution_count": null,
      "outputs": []
    },
    {
      "cell_type": "markdown",
      "source": [
        "Initializing the DQN agent"
      ],
      "metadata": {
        "id": "D5lSvX0fJXX2"
      }
    },
    {
      "cell_type": "code",
      "source": [
        "agent = Agent(state_size, number_actions)"
      ],
      "metadata": {
        "id": "Drd1EraaJikG"
      },
      "execution_count": null,
      "outputs": []
    },
    {
      "cell_type": "markdown",
      "source": [],
      "metadata": {
        "id": "vrrWZnOnWbcv"
      }
    },
    {
      "cell_type": "markdown",
      "source": [
        "Training the DQN agent"
      ],
      "metadata": {
        "id": "hbySMFjYSh8B"
      }
    },
    {
      "cell_type": "code",
      "source": [
        "# Training the DQN agent\n",
        "\n",
        "number_episodes = 2000\n",
        "maximum_number_timesteps_per_episode = 1000\n",
        "epsilon_starting_value  = 1.0\n",
        "epsilon_ending_value  = 0.01\n",
        "epsilon_decay_value  = 0.995\n",
        "epsilon = epsilon_starting_value\n",
        "scores_on_100_episodes = deque(maxlen = 100)\n",
        "\n",
        "for episode in range(1, number_episodes + 1):\n",
        "  state, _ = env.reset()\n",
        "  score = 0\n",
        "  for t in range(maximum_number_timesteps_per_episode):\n",
        "    action = agent.act(state, epsilon)\n",
        "    next_state, reward, done, _, _ = env.step(action)\n",
        "    agent.step(state, action, reward, next_state, done)\n",
        "    state = next_state\n",
        "    score += reward\n",
        "    if done:\n",
        "      break\n",
        "  scores_on_100_episodes.append(score)\n",
        "  epsilon = max(epsilon_ending_value, epsilon_decay_value * epsilon)\n",
        "  print('\\rEpisode {}\\tAverage Score: {:.2f}'.format(episode, np.mean(scores_on_100_episodes)), end = \"\")\n",
        "  if episode % 100 == 0:\n",
        "    print('\\rEpisode {}\\tAverage Score: {:.2f}'.format(episode, np.mean(scores_on_100_episodes)))\n",
        "  if np.mean(scores_on_100_episodes) >= 200.0:\n",
        "    print('\\nEnvironment solved in {:d} episodes!\\tAverage Score: {:.2f}'.format(episode - 100, np.mean(scores_on_100_episodes)))\n",
        "    torch.save(agent.local_qnetwork.state_dict(), 'checkpoint.pth')\n",
        "    break"
      ],
      "metadata": {
        "id": "inrVaXZDSlsr",
        "colab": {
          "base_uri": "https://localhost:8080/"
        },
        "outputId": "74e0aefd-88d1-4e12-8cae-f66f787d4039"
      },
      "execution_count": null,
      "outputs": [
        {
          "output_type": "stream",
          "name": "stdout",
          "text": [
            "Episode 100\tAverage Score: -148.15\n",
            "Episode 200\tAverage Score: -88.70\n",
            "Episode 300\tAverage Score: -36.52\n",
            "Episode 400\tAverage Score: 41.21\n",
            "Episode 500\tAverage Score: 81.96\n",
            "Episode 600\tAverage Score: 137.48\n",
            "Episode 700\tAverage Score: 146.36\n",
            "Episode 800\tAverage Score: 175.87\n",
            "Episode 900\tAverage Score: 196.73\n",
            "Episode 907\tAverage Score: 200.72\n",
            "Environment solved in 807 episodes!\tAverage Score: 200.72\n"
          ]
        }
      ]
    },
    {
      "cell_type": "markdown",
      "source": [
        "Visualizing the results"
      ],
      "metadata": {
        "id": "jjjrjpg-xpdG"
      }
    },
    {
      "cell_type": "code",
      "source": [
        "# Part 3 - Visualizing the results\n",
        "\n",
        "import glob\n",
        "import io\n",
        "import base64\n",
        "import imageio\n",
        "from IPython.display import HTML, display\n",
        "from gym.wrappers.monitoring.video_recorder import VideoRecorder\n",
        "\n",
        "def show_video_of_model(agent, env_name):\n",
        "    env = gym.make(env_name, render_mode='rgb_array')\n",
        "    state, _ = env.reset()\n",
        "    done = False\n",
        "    frames = []\n",
        "    while not done:\n",
        "        frame = env.render()\n",
        "        frames.append(frame)\n",
        "        action = agent.act(state)\n",
        "        state, reward, done, _, _ = env.step(action.item())\n",
        "    env.close()\n",
        "    imageio.mimsave('video.mp4', frames, fps=30)\n",
        "\n",
        "show_video_of_model(agent, 'LunarLander-v3')\n",
        "\n",
        "def show_video():\n",
        "    mp4list = glob.glob('*.mp4')\n",
        "    if len(mp4list) > 0:\n",
        "        mp4 = mp4list[0]\n",
        "        video = io.open(mp4, 'r+b').read()\n",
        "        encoded = base64.b64encode(video)\n",
        "        display(HTML(data='''<video alt=\"test\" autoplay\n",
        "                loop controls style=\"height: 400px;\">\n",
        "                <source src=\"data:video/mp4;base64,{0}\" type=\"video/mp4\" />\n",
        "             </video>'''.format(encoded.decode('ascii'))))\n",
        "    else:\n",
        "        print(\"Could not find video\")\n",
        "\n",
        "show_video()"
      ],
      "metadata": {
        "colab": {
          "base_uri": "https://localhost:8080/"
        },
        "id": "rWc7Fkcfxu6D",
        "outputId": "344e5602-9f27-4bb3-c1a9-8cc23ebf199b"
      },
      "execution_count": null,
      "outputs": [
        {
          "output_type": "stream",
          "name": "stderr",
          "text": [
            "WARNING:imageio_ffmpeg:IMAGEIO FFMPEG_WRITER WARNING: input image is not divisible by macro_block_size=16, resizing from (600, 400) to (608, 400) to ensure video compatibility with most codecs and players. To prevent resizing, make your input image divisible by the macro_block_size or set the macro_block_size to 1 (risking incompatibility).\n"
          ]
        },
        {
          "output_type": "display_data",
          "data": {
            "text/plain": [
              "<IPython.core.display.HTML object>"
            ],
            "text/html": [
              "<video alt=\"test\" autoplay\n",
              "                loop controls style=\"height: 400px;\">\n",
              "                <source src=\"data:video/mp4;base64,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\" type=\"video/mp4\" />\n",
              "             </video>"
            ]
          },
          "metadata": {}
        }
      ]
    }
  ]
}